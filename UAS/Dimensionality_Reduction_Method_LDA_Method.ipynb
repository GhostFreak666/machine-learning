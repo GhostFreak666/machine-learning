{
  "nbformat": 4,
  "nbformat_minor": 0,
  "metadata": {
    "colab": {
      "name": "Dimensionality Reduction Method LDA Method.ipynb",
      "provenance": [],
      "include_colab_link": true
    },
    "kernelspec": {
      "name": "python3",
      "display_name": "Python 3"
    }
  },
  "cells": [
    {
      "cell_type": "markdown",
      "metadata": {
        "id": "view-in-github",
        "colab_type": "text"
      },
      "source": [
        "<a href=\"https://colab.research.google.com/github/RaafiDwi/machine-learning/blob/main/UAS/Dimensionality_Reduction_Method_LDA_Method.ipynb\" target=\"_parent\"><img src=\"https://colab.research.google.com/assets/colab-badge.svg\" alt=\"Open In Colab\"/></a>"
      ]
    },
    {
      "cell_type": "markdown",
      "metadata": {
        "id": "16Her215c1oC"
      },
      "source": [
        "PCA"
      ]
    },
    {
      "cell_type": "code",
      "metadata": {
        "id": "I4qxslGoc5rv",
        "colab": {
          "base_uri": "https://localhost:8080/",
          "height": 437
        },
        "outputId": "0fc5f801-94b5-435d-e132-13b7eaab3462"
      },
      "source": [
        "#code for PCA Reduction\r\n",
        "import numpy as np\r\n",
        "import pandas as pd\r\n",
        "\r\n",
        "import matplotlib.pyplot as plt\r\n",
        "%matplotlib inline\r\n",
        "import seaborn as sns\r\n",
        "\r\n",
        "from sklearn.preprocessing import StandardScaler, LabelEncoder\r\n",
        "from sklearn import decomposition\r\n",
        "from sklearn.model_selection import train_test_split\r\n",
        "\r\n",
        "from sklearn.linear_model import LogisticRegression\r\n",
        "from sklearn.discriminant_analysis import LinearDiscriminantAnalysis\r\n",
        "\r\n",
        "from sklearn.metrics import accuracy_score,confusion_matrix\r\n",
        "\r\n",
        "df = pd.read_csv(\"drive/Shareddrives/Neural-Network/data_cancer.csv\")\r\n",
        "\r\n",
        "\r\n",
        "#data = data.drop(columns=['Unnamed: 32'])\r\n",
        "sns.countplot(df['diagnosis'])\r\n",
        "plt.show()\r\n",
        "df.drop(['Unnamed: 32'], axis = 1, inplace = True)\r\n",
        "df.drop(['id'], axis = 1, inplace = True)\r\n",
        "df.head(3)\r\n",
        "\r\n",
        "X = df.loc[:, ['radius_mean', 'texture_mean', 'perimeter_mean',\r\n",
        "       'area_mean', 'smoothness_mean', 'compactness_mean', 'concavity_mean',\r\n",
        "       'concave points_mean', 'symmetry_mean', 'fractal_dimension_mean',\r\n",
        "       'radius_se', 'texture_se', 'perimeter_se', 'area_se', 'smoothness_se',\r\n",
        "       'compactness_se', 'concavity_se', 'concave points_se', 'symmetry_se',\r\n",
        "       'fractal_dimension_se', 'radius_worst', 'texture_worst',\r\n",
        "       'perimeter_worst', 'area_worst', 'smoothness_worst',\r\n",
        "       'compactness_worst', 'concavity_worst', 'concave points_worst',\r\n",
        "       'symmetry_worst', 'fractal_dimension_worst']]\r\n",
        "y = df.loc[:, 'diagnosis']\r\n",
        "\r\n",
        "#scaling of variables\r\n",
        "sc = StandardScaler()\r\n",
        "scaled_X = sc.fit_transform(X.values)\r\n",
        "pd.DataFrame(scaled_X, columns=X.columns).head()\r\n",
        "\r\n",
        "#encode target variable y\r\n",
        "le = LabelEncoder()\r\n",
        "y = le.fit_transform(y)\r\n",
        "pd.DataFrame(y, columns=['diagnosis']).head()\r\n",
        "\r\n",
        "lda = LinearDiscriminantAnalysis()\r\n",
        "new_X_train_lda = lda.fit_transform(X_train, y_train)\r\n",
        "\r\n",
        "lda.explained_variance_ratio_\r\n",
        "new_X_train_lda_df = pd.DataFrame(new_X_train_lda,columns=['LDA1'])\r\n",
        "new_X_train_lda_df.head()\r\n",
        "\r\n",
        "lda.coef_\r\n",
        "\r\n",
        "lg2 = LogisticRegression()\r\n",
        "lg2.fit(new_X_train_lda, y_train)\r\n",
        "\r\n",
        "new_x_test_lda = lda.transform(X_test)\r\n",
        "y_test_pred_lda = lg2.predict(new_x_test_lda)\r\n",
        "\r\n",
        "print(confusion_matrix(y_test, y_test_pred_lda))\r\n",
        "print(accuracy_score(y_test, y_test_pred_lda))\r\n",
        "\r\n",
        "df['diagnosis'].value_counts()"
      ],
      "execution_count": null,
      "outputs": [
        {
          "output_type": "stream",
          "text": [
            "/usr/local/lib/python3.6/dist-packages/seaborn/_decorators.py:43: FutureWarning: Pass the following variable as a keyword arg: x. From version 0.12, the only valid positional argument will be `data`, and passing other arguments without an explicit keyword will result in an error or misinterpretation.\n",
            "  FutureWarning\n"
          ],
          "name": "stderr"
        },
        {
          "output_type": "display_data",
          "data": {
            "image/png": "[encoded data removed]",
            "text/plain": [
              "<Figure size 432x288 with 1 Axes>"
            ]
          },
          "metadata": {
            "tags": [],
            "needs_background": "light"
          }
        },
        {
          "output_type": "stream",
          "text": [
            "[[66  1]\n",
            " [ 2 45]]\n",
            "0.9736842105263158\n"
          ],
          "name": "stdout"
        },
        {
          "output_type": "execute_result",
          "data": {
            "text/plain": [
              "B    357\n",
              "M    212\n",
              "Name: diagnosis, dtype: int64"
            ]
          },
          "metadata": {
            "tags": []
          },
          "execution_count": 37
        }
      ]
    }
  ]
}